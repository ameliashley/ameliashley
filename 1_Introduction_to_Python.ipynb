{
  "cells": [
    {
      "cell_type": "markdown",
      "metadata": {
        "id": "GtI6c5wewOij"
      },
      "source": [
        "# Introduction to Python"
      ]
    },
    {
      "cell_type": "markdown",
      "metadata": {
        "id": "ZvfheEgtwOik"
      },
      "source": [
        "### About the Tutor\n",
        "\n",
        "My name is [Kasia](https://kasia.codes/) and I'm a DPhil student in Genomic Medicine and Statistics* at the [Wellcome Centre for Human Genetics](https://www.well.ox.ac.uk/), University of Oxford. I'm also the President of [NGSchool Society](https://ngschool.eu/) where with an amazing group of [people](https://ngschool.eu/people/) we try to build international community for computational biologists with training, platforms to network and exchange knowledge. Be sure to check out more on our social media ([twitter](https://twitter.com/NGSchoolEU) and [fb](https://www.facebook.com/NGSchool.eu/)) and [join us on discord](https://discord.gg/MhNeqwR).\n",
        "\n",
        "Hope you'll enjoy this workshop. If you have any questions ask me straight away by raising your hand or posting on Slack. If you are reading this outsde of the classroom, go aheas and shoot me [an email](mailto:kasia@well.ox.ac.uk) in case you have some questions.\n",
        "\n",
        "Feel free to leave your comments and/or find some bugs. Create an issue, or better yet - fix it and create a pull request. Who knows, if I get the chance I might buy you a beer as a thank you ;)\n",
        "\n",
        "\\*btw. if you're looking for a PhD, look [this one up](https://www.medsci.ox.ac.uk/study/graduateschool/courses/dtc-structured-research-degrees/genomic-medicine-and-statistics) as it is quite interesting and comes with generous funding!"
      ]
    },
    {
      "cell_type": "markdown",
      "metadata": {
        "id": "o5b2UI4WwOil"
      },
      "source": [
        "## Why Python?"
      ]
    },
    {
      "cell_type": "markdown",
      "metadata": {
        "id": "75aiSxIzwOil"
      },
      "source": [
        "![](https://imgs.xkcd.com/comics/python.png)\n",
        "\n",
        "\n",
        "The title of the [graphic](https://imgs.xkcd.com/comics/python.png): _I wrote 20 short programs in Python yesterday. It was wonderful. Perl, I'm leaving you._"
      ]
    },
    {
      "cell_type": "markdown",
      "metadata": {
        "id": "6O7AOJcjwOil"
      },
      "source": [
        "**Python advantages, or in other words \"Why Python?\"**\n",
        "\n",
        "1. Easy to read, easy to learn.\n",
        "\n",
        "    The code you write in Python resembles instructions you would give to someone (here: computer) in English. Behind the curtain the code is automatically converted to a set of instructions your computer understands.\n",
        "\n",
        "2. Vast repository of libraries providing necessary extensions.\n",
        "\n",
        "    As in the comic above - if you need sth, there's probably a package in Python with the tools you need. Just import it `import some_package` and you're good to go.\n",
        "\n",
        "3. Portable throughout platforms.\n",
        "\n",
        "    Provided that the code is run with the same version - it should run exactly the same on Linux, Widnows or Mac machines.\n",
        "\n",
        "4. It's easy to leverage other languages speed (such as C/C++ or others) by combining it with Python code.\n",
        "\n",
        "    There are still some moments where Python is not as quick as we would need it to be. But, it's super easy to implement C for example. According to Python Manual _It is quite easy to add new built-in modules to Python, if you know how to program in C. Such extension modules can do two things that can’t be done directly in Python: they can implement new built-in object types, and they can call C library functions and system calls._ (you can read more [here](https://docs.python.org/3.7/extending/extending.html)). But even if you do not know how to write in C you still can benefit from its speed by using [Cython](https://cython.org/) - you have to slightly adjust your code (for one, define variable types) and run Cython extension which will translate as much as it can to C. Et voila!\n",
        "\n",
        "5. Python is object-oriented.\n",
        "\n",
        "    Everything in Python is an object which helps in solving complex problems. At the beginning it might be a bit hard to wrap your head around this, but don't worry - it gets easier!"
      ]
    },
    {
      "cell_type": "markdown",
      "metadata": {
        "id": "Ei3sQ1bmwOil"
      },
      "source": [
        "## Introduction\n",
        "\n",
        "Welcome to this **Introduction to Python** and basic tools necessary for data analysis. The idea of this workshop is to show you how things are done in Python, how to load the tools and learn to use them, but mostly give you a flavor of Python's possibilities and show you where to find help.  \n",
        "\n",
        "We will be working with Python3, in Jupyter and we will be using the following packages:\n",
        "\n",
        "* [NumPy](https://www.numpy.org/) - *the fundamental package for scientific computing with Python*\n",
        "* [Pandas](https://pandas.pydata.org/) - *library providing high-performance, easy-to-use data structures and data analysis tools for the Python programming*\n",
        "* [SciPy](https://www.scipy.org/) -  *Python-based ecosystem of open-source software for mathematics, science, and engineering*\n",
        "* [Matplotlib](https://matplotlib.org/) - *2D plotting library which produces publication quality figures*\n",
        "\n",
        "### Outline\n",
        "1. Basics\n",
        "    1. Variable and types\n",
        "    2. Lists and more\n",
        "    3. Controlling the flow\n",
        "    4. Functions\n",
        "    5. Modules\n",
        "2. Data analysis\n",
        "    1. Reading in and descriptive analysis with Numpy and Pandas\n",
        "    2. Data exploration with SciPy\n",
        "    3. Plotting with Matplotlib"
      ]
    },
    {
      "cell_type": "markdown",
      "metadata": {
        "id": "3tcIbzkJwOim"
      },
      "source": [
        "__Short note on code styling__\n",
        "\n",
        "The very best advice I got about how to write code and which style to use was that it doesn't matter which style you use as long as you are consitent! So I try to be.  \n",
        "\n",
        "If you want to read more on recommended styling - you can read the [PEP 8 Style Guide](https://www.python.org/dev/peps/pep-0008/).\n",
        "\n",
        "I name my variables usualy with `lower_snake` case, but as long as you're consistant and create names that mean something you can do whatever you want! If you want advice on how to name things, have a look at [those slides by Jenny Bryan](https://speakerdeck.com/jennybc/how-to-name-files).\n",
        "\n",
        "<a href=\"https://github.com/allisonhorst/stats-illustrations\"><img src=\"https://raw.githubusercontent.com/allisonhorst/stats-illustrations/master/other-stats-artwork/coding_cases.png\" alt=\"In that case - naming styles guide\" style=\"width: 600px;\"/></a>\n",
        "\n",
        "Artwork by [@allison_horst](https://twitter.com/allison_horst)"
      ]
    },
    {
      "cell_type": "markdown",
      "metadata": {
        "id": "abUVWGr-wOim"
      },
      "source": [
        "***\n",
        "## Basics\n",
        "\n",
        "Historically, the first thing you *ought* to do in any given programming language is to print the *Hello world!* statement. In order to this in Python3 you just call a *function* - print() and provide it with an *string argument*, as follows:"
      ]
    },
    {
      "cell_type": "code",
      "execution_count": 1,
      "metadata": {
        "scrolled": true,
        "id": "9B3FZzpgwOim",
        "outputId": "bcdfb833-8866-457f-d09a-767f6b392893",
        "colab": {
          "base_uri": "https://localhost:8080/"
        }
      },
      "outputs": [
        {
          "output_type": "stream",
          "name": "stdout",
          "text": [
            "Hello world!\n"
          ]
        }
      ],
      "source": [
        "print(\"Hello world!\")"
      ]
    },
    {
      "cell_type": "code",
      "execution_count": 2,
      "metadata": {
        "id": "Vne-Op8bwOin",
        "outputId": "65f8622c-da2f-40b0-d75e-c6da5c09c164",
        "colab": {
          "base_uri": "https://localhost:8080/"
        }
      },
      "outputs": [
        {
          "output_type": "stream",
          "name": "stdout",
          "text": [
            "Hello Amelia\n"
          ]
        }
      ],
      "source": [
        "# Now it's your turn. write line of code that will print a greeting to you.\n",
        "# In my case, that would be print(\"Hello Kasia!\") which will print \"Hello Kasia!\".\n",
        "# Type it here and press run.\n",
        "print(\"Hello Amelia\")"
      ]
    },
    {
      "cell_type": "markdown",
      "metadata": {
        "id": "RKYdAJm-wOin"
      },
      "source": [
        "**Comments**"
      ]
    },
    {
      "cell_type": "markdown",
      "metadata": {
        "id": "Xp9ax2C5wOin"
      },
      "source": [
        "Everytime we write code we strive to make it self-explanatory. However, whenever you want to describe what your code does you shoudl use comments. In my book - more often it's better to elave too much comments than to comment too vaguely."
      ]
    },
    {
      "cell_type": "markdown",
      "metadata": {
        "id": "XS7NeRv0wOin"
      },
      "source": [
        "```python\n",
        "# Text proceeded with the hashtag sign (#) are not executed and serve as comemnts.\n",
        "\n",
        "# There are also special kind of comments - so called docstrings.\n",
        "# You'll find them inside functions, they are use to translate\n",
        "# the comment into the proper docummentation.\n",
        "\n",
        "def add_two_numbers(a, b):\n",
        "    \"\"\"Adds two integers.\n",
        "    Args:\n",
        "        two integers\n",
        "    Returns:\n",
        "        sum of the arguments\n",
        "    \"\"\"\n",
        "    int(a) + int(b)\n",
        "```"
      ]
    },
    {
      "cell_type": "markdown",
      "metadata": {
        "id": "veyNPt90wOin"
      },
      "source": [
        "***\n",
        "### Variables and Types"
      ]
    },
    {
      "cell_type": "markdown",
      "metadata": {
        "id": "PCi0hgvwwOin"
      },
      "source": [
        "#### Strings"
      ]
    },
    {
      "cell_type": "markdown",
      "metadata": {
        "id": "TyKs5P7VwOin"
      },
      "source": [
        "Strings are defined by single ' ' or double \" \" quotations.  \n",
        "We assign value to variable by writing its desired name (no white spaces!) followed by equal sign and the value."
      ]
    },
    {
      "cell_type": "code",
      "execution_count": 3,
      "metadata": {
        "id": "F0HMblKuwOin",
        "outputId": "b48db97a-5f32-49fc-9a5e-968df87b4160",
        "colab": {
          "base_uri": "https://localhost:8080/"
        }
      },
      "outputs": [
        {
          "output_type": "stream",
          "name": "stdout",
          "text": [
            "This is my string\n"
          ]
        }
      ],
      "source": [
        "my_string = 'This is my string'\n",
        "print(my_string)"
      ]
    },
    {
      "cell_type": "code",
      "execution_count": 4,
      "metadata": {
        "id": "j5uLrnULwOin",
        "outputId": "b86def2c-3417-4c75-8843-a42614886a08",
        "colab": {
          "base_uri": "https://localhost:8080/"
        }
      },
      "outputs": [
        {
          "output_type": "execute_result",
          "data": {
            "text/plain": [
              "17"
            ]
          },
          "metadata": {},
          "execution_count": 4
        }
      ],
      "source": [
        "len(my_string) # string lenght"
      ]
    },
    {
      "cell_type": "markdown",
      "metadata": {
        "id": "bIXEJ0ZtwOin"
      },
      "source": [
        "We can access each character from a string. Nothe that Python counts from 0, that means that if you want to access T from `mystring` you need to call for position 0."
      ]
    },
    {
      "cell_type": "code",
      "execution_count": 5,
      "metadata": {
        "id": "2IfHnDq0wOin",
        "outputId": "6b27c09c-695b-4bcd-81e1-6e69c78bc582",
        "colab": {
          "base_uri": "https://localhost:8080/",
          "height": 35
        }
      },
      "outputs": [
        {
          "output_type": "execute_result",
          "data": {
            "text/plain": [
              "'T'"
            ],
            "application/vnd.google.colaboratory.intrinsic+json": {
              "type": "string"
            }
          },
          "metadata": {},
          "execution_count": 5
        }
      ],
      "source": [
        "my_string[0]"
      ]
    },
    {
      "cell_type": "markdown",
      "metadata": {
        "id": "nnQmD8DGwOin"
      },
      "source": [
        "We can also get the characters from the end. Again, we are counting from the start, but to the left. I.e., to access last character we need to call for -1, second to last -2 and so on."
      ]
    },
    {
      "cell_type": "markdown",
      "metadata": {
        "id": "321F8GpDwOin"
      },
      "source": [
        "We can access slices of a string..."
      ]
    },
    {
      "cell_type": "code",
      "execution_count": 6,
      "metadata": {
        "id": "J53rB1rKwOio",
        "outputId": "bf92bbde-f585-493c-e7a5-368cd46b5a7d",
        "colab": {
          "base_uri": "https://localhost:8080/",
          "height": 35
        }
      },
      "outputs": [
        {
          "output_type": "execute_result",
          "data": {
            "text/plain": [
              "'This'"
            ],
            "application/vnd.google.colaboratory.intrinsic+json": {
              "type": "string"
            }
          },
          "metadata": {},
          "execution_count": 6
        }
      ],
      "source": [
        "my_string[0:4]"
      ]
    },
    {
      "cell_type": "code",
      "execution_count": 8,
      "metadata": {
        "id": "YZUIw6-WwOio",
        "outputId": "e6e5d18b-9379-462d-b877-0e90caf62b36",
        "colab": {
          "base_uri": "https://localhost:8080/",
          "height": 35
        }
      },
      "outputs": [
        {
          "output_type": "execute_result",
          "data": {
            "text/plain": [
              "'g'"
            ],
            "application/vnd.google.colaboratory.intrinsic+json": {
              "type": "string"
            }
          },
          "metadata": {},
          "execution_count": 8
        }
      ],
      "source": [
        "my_string[-1]"
      ]
    },
    {
      "cell_type": "markdown",
      "metadata": {
        "id": "eBYSsJ4zwOio"
      },
      "source": [
        "... and create new strings by using `+` and `*` operations."
      ]
    },
    {
      "cell_type": "code",
      "execution_count": 9,
      "metadata": {
        "id": "Nz3HsX-fwOio",
        "outputId": "605d6bf5-fdc3-4cad-9f24-57911b81c643",
        "colab": {
          "base_uri": "https://localhost:8080/"
        }
      },
      "outputs": [
        {
          "output_type": "stream",
          "name": "stdout",
          "text": [
            "This is my string\n"
          ]
        }
      ],
      "source": [
        "my_new_string = my_string + ' that I changed!'\n",
        "my_newer_string = my_string * 3\n",
        "print(my_string)"
      ]
    },
    {
      "cell_type": "code",
      "execution_count": 10,
      "metadata": {
        "id": "CEFYiuBYwOio",
        "outputId": "4fac53c0-3162-480b-b403-2e613db7d886",
        "colab": {
          "base_uri": "https://localhost:8080/"
        }
      },
      "outputs": [
        {
          "output_type": "stream",
          "name": "stdout",
          "text": [
            "This is my string that I changed!\n"
          ]
        }
      ],
      "source": [
        "print(my_new_string)"
      ]
    },
    {
      "cell_type": "code",
      "execution_count": 11,
      "metadata": {
        "id": "5Rb1aG9fwOio",
        "outputId": "6b2aea1a-0579-41d6-ab4b-40d72ac1e53d",
        "colab": {
          "base_uri": "https://localhost:8080/"
        }
      },
      "outputs": [
        {
          "output_type": "stream",
          "name": "stdout",
          "text": [
            "This is my stringThis is my stringThis is my string\n"
          ]
        }
      ],
      "source": [
        "print(my_newer_string)"
      ]
    },
    {
      "cell_type": "markdown",
      "metadata": {
        "id": "jR9gfcJJwOio"
      },
      "source": [
        "There are few methods specific for strings that will come in handy in your everyday programming. Let me quickly introduce those.\n",
        "\n",
        "* `find(pattern)` - Finds the start position of the pattern; returns -1 if no match;\n",
        "* `replace(pattern, replacement)` - Replaces all occurences of a pattern with replacement;\n",
        "* `upper()`, `lower()` - converts to upper or lowercase;\n",
        "* `strip(character)` - strip string of a character (removes occurence of the character at the beggining and end of a string;\n",
        "* `rstrip()` - strips trsings of whitespace characters on the right side."
      ]
    },
    {
      "cell_type": "code",
      "execution_count": 15,
      "metadata": {
        "id": "2NRkKv_dwOio",
        "outputId": "cac32ee0-05ac-4158-9b4c-4f7269a5b1fc",
        "colab": {
          "base_uri": "https://localhost:8080/"
        }
      },
      "outputs": [
        {
          "output_type": "stream",
          "name": "stdout",
          "text": [
            "Hello Kasia!\n"
          ]
        }
      ],
      "source": [
        "hello_kasia = 'Hello Kasia!'\n",
        "hello_adam = hello_kasia.replace('Kasia', 'Adam').upper()\n",
        "\n",
        "print(hello_kasia)"
      ]
    },
    {
      "cell_type": "code",
      "execution_count": 16,
      "metadata": {
        "id": "Tnvrjo1wwOio",
        "outputId": "50412545-4641-4f18-d088-6718d90d0cf6",
        "colab": {
          "base_uri": "https://localhost:8080/"
        }
      },
      "outputs": [
        {
          "output_type": "stream",
          "name": "stdout",
          "text": [
            "HELLO ADAM!\n"
          ]
        }
      ],
      "source": [
        "print(hello_adam)"
      ]
    },
    {
      "cell_type": "code",
      "execution_count": 18,
      "metadata": {
        "id": "SCkoCyyWwOio",
        "outputId": "3ec7f406-6508-4dcd-c29a-cdf90f59130c",
        "colab": {
          "base_uri": "https://localhost:8080/"
        }
      },
      "outputs": [
        {
          "output_type": "execute_result",
          "data": {
            "text/plain": [
              "['Be yourself', ' everyone else is already taken.']"
            ]
          },
          "metadata": {},
          "execution_count": 18
        }
      ],
      "source": [
        "deep_quote = 'Be yourself; everyone else is already taken.'\n",
        "deep_quote.split(';')"
      ]
    },
    {
      "cell_type": "markdown",
      "metadata": {
        "id": "Qf43MIEzwOio"
      },
      "source": [
        "We can apply more than one method of an object. The methods are executed from left to right."
      ]
    },
    {
      "cell_type": "code",
      "execution_count": 21,
      "metadata": {
        "id": "pJ10dEJPwOio",
        "outputId": "677bcb92-da3e-4d72-b08d-4f9b4eeee552",
        "colab": {
          "base_uri": "https://localhost:8080/"
        }
      },
      "outputs": [
        {
          "output_type": "execute_result",
          "data": {
            "text/plain": [
              "['\"two',\n",
              " 'things',\n",
              " 'are',\n",
              " 'infinite:',\n",
              " 'the',\n",
              " 'universe',\n",
              " 'and',\n",
              " 'human',\n",
              " 'stupidity;',\n",
              " 'and',\n",
              " \"i'm\",\n",
              " 'not',\n",
              " 'sure',\n",
              " 'about',\n",
              " 'the',\n",
              " 'universe.\"']"
            ]
          },
          "metadata": {},
          "execution_count": 21
        }
      ],
      "source": [
        "another_deep_quote = '\"Two things are infinite: the universe and human stupidity; and I\\'m not sure about the universe.\"\\n'\n",
        "another_deep_quote.rstrip().lower().split(' ')"
      ]
    },
    {
      "cell_type": "markdown",
      "metadata": {
        "id": "VkWOXJaHwOio"
      },
      "source": [
        "The same thing can be achieved if we create intermediate variables."
      ]
    },
    {
      "cell_type": "code",
      "execution_count": 23,
      "metadata": {
        "id": "4Qc7uRZXwOio",
        "outputId": "0b4ccaea-2f31-4c62-e85a-bed1982442e6",
        "colab": {
          "base_uri": "https://localhost:8080/"
        }
      },
      "outputs": [
        {
          "output_type": "execute_result",
          "data": {
            "text/plain": [
              "['\"two',\n",
              " 'things',\n",
              " 'are',\n",
              " 'infinite:',\n",
              " 'the',\n",
              " 'universe',\n",
              " 'and',\n",
              " 'human',\n",
              " 'stupidity;',\n",
              " 'and',\n",
              " \"i'm\",\n",
              " 'not',\n",
              " 'sure',\n",
              " 'about',\n",
              " 'the',\n",
              " 'universe.\"']"
            ]
          },
          "metadata": {},
          "execution_count": 23
        }
      ],
      "source": [
        "another_deep_quote_stripped = another_deep_quote.rstrip()\n",
        "another_deep_quote_stripped_and_lower = another_deep_quote_stripped.lower()\n",
        "another_deep_quote_stripped_lower_and_split = another_deep_quote_stripped_and_lower.split(' ')\n",
        "another_deep_quote_stripped_lower_and_split"
      ]
    },
    {
      "cell_type": "markdown",
      "metadata": {
        "id": "hOliADnzwOio"
      },
      "source": [
        "There is one last important function worth mentioning here. We can `format()` the strings by using other strings (not only strings, but we will talk about this later) as arguments."
      ]
    },
    {
      "cell_type": "code",
      "execution_count": 25,
      "metadata": {
        "id": "OGahzGtgwOio"
      },
      "outputs": [],
      "source": [
        "# before we start, type in your name here\n",
        "your_name = 'Amelia'"
      ]
    },
    {
      "cell_type": "code",
      "execution_count": 26,
      "metadata": {
        "id": "kqZiq_1RwOio",
        "outputId": "346c3509-0493-4a8f-e469-884ccb9e42b9",
        "colab": {
          "base_uri": "https://localhost:8080/",
          "height": 35
        }
      },
      "outputs": [
        {
          "output_type": "execute_result",
          "data": {
            "text/plain": [
              "'Hello Amelia! Hope you are enjoying this Python class. :)'"
            ],
            "application/vnd.google.colaboratory.intrinsic+json": {
              "type": "string"
            }
          },
          "metadata": {},
          "execution_count": 26
        }
      ],
      "source": [
        "'Hello %s! Hope you are enjoying this %s class. :)' % (your_name, 'Python')"
      ]
    },
    {
      "cell_type": "code",
      "execution_count": 27,
      "metadata": {
        "id": "v-1-RNNowOis",
        "outputId": "99f34e17-d46e-421a-e549-2511a28d9411",
        "colab": {
          "base_uri": "https://localhost:8080/",
          "height": 35
        }
      },
      "outputs": [
        {
          "output_type": "execute_result",
          "data": {
            "text/plain": [
              "'Hello Amelia! Hope you are enjoying this Python class. :)'"
            ],
            "application/vnd.google.colaboratory.intrinsic+json": {
              "type": "string"
            }
          },
          "metadata": {},
          "execution_count": 27
        }
      ],
      "source": [
        "# This is equivalent to the following:\n",
        "'Hello {yname}! Hope you are enjoying this {lang} class. :)'.format(yname = your_name, lang = 'Python')"
      ]
    },
    {
      "cell_type": "code",
      "execution_count": 28,
      "metadata": {
        "id": "DCrhzn4vwOis",
        "outputId": "dcf3190e-89ce-46ff-88ed-eb71e5611fac",
        "colab": {
          "base_uri": "https://localhost:8080/",
          "height": 35
        }
      },
      "outputs": [
        {
          "output_type": "execute_result",
          "data": {
            "text/plain": [
              "'Hello Amelia! Hope you are enjoying this Python class. :)'"
            ],
            "application/vnd.google.colaboratory.intrinsic+json": {
              "type": "string"
            }
          },
          "metadata": {},
          "execution_count": 28
        }
      ],
      "source": [
        "lang = 'Python'\n",
        "f'Hello {your_name}! Hope you are enjoying this {lang} class. :)'"
      ]
    },
    {
      "cell_type": "code",
      "execution_count": 29,
      "metadata": {
        "id": "uMHcL9rrwOis",
        "outputId": "cfacb760-216b-43a1-db2b-bbac75d69a21",
        "colab": {
          "base_uri": "https://localhost:8080/",
          "height": 35
        }
      },
      "outputs": [
        {
          "output_type": "execute_result",
          "data": {
            "text/plain": [
              "'Hello {your_name}! Hope you are enjoying this {lang} class. :)'"
            ],
            "application/vnd.google.colaboratory.intrinsic+json": {
              "type": "string"
            }
          },
          "metadata": {},
          "execution_count": 29
        }
      ],
      "source": [
        "'Hello {your_name}! Hope you are enjoying this {lang} class. :)'"
      ]
    },
    {
      "cell_type": "code",
      "execution_count": null,
      "metadata": {
        "id": "rq8o_8j2wOis",
        "outputId": "160e66d1-d64b-4b44-d2ac-7c3d1fb0f06e"
      },
      "outputs": [
        {
          "ename": "NameError",
          "evalue": "name 'your_name' is not defined",
          "output_type": "error",
          "traceback": [
            "\u001b[0;31m---------------------------------------------------------------------------\u001b[0m",
            "\u001b[0;31mNameError\u001b[0m                                 Traceback (most recent call last)",
            "\u001b[0;32m<ipython-input-2-5536113caded>\u001b[0m in \u001b[0;36m<module>\u001b[0;34m\u001b[0m\n\u001b[0;32m----> 1\u001b[0;31m \u001b[0;34mf'Hello {your_name}! Hope you are enjoying this {lang} class. :)'\u001b[0m\u001b[0;34m\u001b[0m\u001b[0;34m\u001b[0m\u001b[0m\n\u001b[0m",
            "\u001b[0;31mNameError\u001b[0m: name 'your_name' is not defined"
          ]
        }
      ],
      "source": [
        "f'Hello {your_name}! Hope you are enjoying this {lang} class. :)'"
      ]
    },
    {
      "cell_type": "markdown",
      "metadata": {
        "id": "k7FWqFJywOis"
      },
      "source": [
        "##### Numbers"
      ]
    },
    {
      "cell_type": "code",
      "execution_count": null,
      "metadata": {
        "id": "W4lmLaRZwOis"
      },
      "outputs": [],
      "source": [
        "my_integer = 1\n",
        "my_float = 2.34567"
      ]
    },
    {
      "cell_type": "code",
      "execution_count": null,
      "metadata": {
        "id": "g2BZbvdEwOis"
      },
      "outputs": [],
      "source": [
        "print(my_integer)"
      ]
    },
    {
      "cell_type": "code",
      "execution_count": null,
      "metadata": {
        "id": "lZRkmt4SwOis"
      },
      "outputs": [],
      "source": [
        "print(my_float)"
      ]
    },
    {
      "cell_type": "code",
      "execution_count": null,
      "metadata": {
        "id": "DA1-QWJawOis"
      },
      "outputs": [],
      "source": [
        "my_float + my_integer"
      ]
    },
    {
      "cell_type": "markdown",
      "metadata": {
        "id": "TMK8_NzzwOis"
      },
      "source": [
        "**Using Python as a calculator**\n",
        "\n",
        "Now, that we know a little about numbers and how to assign variables we can learn how to use Python as a calculator.\n",
        "\n",
        "Basic operations:\n",
        "\n",
        "|Operator|Operation|\n",
        "|:--:|---|\n",
        "|+|addition|\n",
        "|-|substration|\n",
        "|\\*|multiplication|\n",
        "|/|division|\n",
        "|//|floor division|\n",
        "|%|modulo|\n",
        "|\\*\\*|power|"
      ]
    },
    {
      "cell_type": "markdown",
      "metadata": {
        "id": "W1QJQ2UAwOis"
      },
      "source": [
        "***"
      ]
    },
    {
      "cell_type": "markdown",
      "metadata": {
        "id": "EvpqlBoxwOis"
      },
      "source": [
        "**Excercise**\n",
        "Multiply the reminder of division 456 by 87 by 21 and raise it to the power of 3. Get the floor division of this number by 11. Save the result to a variable *result*.\n"
      ]
    },
    {
      "cell_type": "code",
      "execution_count": 33,
      "metadata": {
        "id": "B_Pu5a9kwOis",
        "outputId": "e68b07e1-d207-4ee9-d1d6-04c7e0a6c705",
        "colab": {
          "base_uri": "https://localhost:8080/"
        }
      },
      "outputs": [
        {
          "output_type": "execute_result",
          "data": {
            "text/plain": [
              "7796920"
            ]
          },
          "metadata": {},
          "execution_count": 33
        }
      ],
      "source": [
        "# write your formula here\n",
        "(((456%87)*21)**3)//11"
      ]
    },
    {
      "cell_type": "code",
      "execution_count": null,
      "metadata": {
        "id": "iwv8G0BYwOis"
      },
      "outputs": [],
      "source": [
        "# Did it work?\n",
        "result == 7796920"
      ]
    },
    {
      "cell_type": "markdown",
      "metadata": {
        "id": "l4_1fYSYwOis"
      },
      "source": [
        "**Side Note: On numbers and precision**"
      ]
    },
    {
      "cell_type": "markdown",
      "metadata": {
        "id": "QJS3KvngwOis"
      },
      "source": [
        "The numbers in computers are represented as a base of 2, not a base of 10 like we are used to in everyday life. What that means is that sometimes computer will store an aproximation of a number, rather than an exact number.   \n",
        "\n",
        "For example 10 will be represented as 1 x 8, 0 x 4, 1 x 2 and 0 x 1 rather than 1 x 10 and 0 x 1. That generates difficulties when we want to store a decimal number.   \n",
        "\n",
        "In order to store 1/10 in the base 2 system we would have to save it as an infinite sum.\n",
        "\n",
        "1/10 = 1/16 + 1/32 + 1/256 + 1/512 ...\n",
        "\n",
        "Therefore, 1/10 in our computers is only an approximation. You can read more about this [here](https://docs.python.org/3/tutorial/floatingpoint.html).\n",
        "\n",
        "That's why:"
      ]
    },
    {
      "cell_type": "code",
      "execution_count": null,
      "metadata": {
        "id": "Nv1ZVqRPwOis"
      },
      "outputs": [],
      "source": [
        "# This is not true\n",
        "0.1 + 0.1 + 0.1 == 0.3"
      ]
    },
    {
      "cell_type": "code",
      "execution_count": null,
      "metadata": {
        "id": "YY2HgF9DwOis"
      },
      "outputs": [],
      "source": [
        "# Nor is this\n",
        "round(0.1, 1) + round(0.1, 1) + round(0.1, 1) == round(0.3, 1)"
      ]
    },
    {
      "cell_type": "code",
      "execution_count": null,
      "metadata": {
        "scrolled": true,
        "id": "eYHcOXOqwOis"
      },
      "outputs": [],
      "source": [
        "# But this is\n",
        "round(0.1 + 0.1 + 0.1, 10) == round(0.3, 10)"
      ]
    },
    {
      "cell_type": "markdown",
      "metadata": {
        "id": "l7hEABhywOit"
      },
      "source": [
        "##### Mixing numbers and strings\n",
        "We can assign more than one variable at a time. We do that by separating each of the assignment with comma. Note, that the number of variable names and values has to be equal."
      ]
    },
    {
      "cell_type": "code",
      "execution_count": null,
      "metadata": {
        "id": "0RA9mXMrwOit"
      },
      "outputs": [],
      "source": [
        "a, b, c = 1, 2.01, 'three'\n",
        "print(b)"
      ]
    },
    {
      "cell_type": "code",
      "execution_count": null,
      "metadata": {
        "id": "Ny34mDdOwOit"
      },
      "outputs": [],
      "source": [
        "type(b)"
      ]
    },
    {
      "cell_type": "markdown",
      "metadata": {
        "id": "OMoY9JeqwOit"
      },
      "source": [
        "Also, we can convert a number to a string, for example to check how many digits has a really big number."
      ]
    },
    {
      "cell_type": "code",
      "execution_count": null,
      "metadata": {
        "id": "lWAu3BjdwOit"
      },
      "outputs": [],
      "source": [
        "# Let's check length of a big number\n",
        "big_number = 23 ** 1992\n",
        "len(str(big_number))"
      ]
    },
    {
      "cell_type": "markdown",
      "metadata": {
        "id": "Vemx-yPDwOit"
      },
      "source": [
        "Similiarly of course we can transform string to a number. This might come in handy while extracting a number from text."
      ]
    },
    {
      "cell_type": "code",
      "execution_count": null,
      "metadata": {
        "id": "-dmX6PWJwOit"
      },
      "outputs": [],
      "source": [
        "a = str(int('1234') + 56)\n",
        "b = int('1234' + str(56))"
      ]
    },
    {
      "cell_type": "markdown",
      "metadata": {
        "id": "n0ZF9kJqwOit"
      },
      "source": [
        "Is a equal b? What's the difference?"
      ]
    },
    {
      "cell_type": "code",
      "execution_count": null,
      "metadata": {
        "id": "imR1-ugtwOit"
      },
      "outputs": [],
      "source": [
        "# To check your answer print both numbers\n",
        "print(a == b)"
      ]
    },
    {
      "cell_type": "code",
      "execution_count": null,
      "metadata": {
        "id": "keAucwcswOit"
      },
      "outputs": [],
      "source": [
        "print(a)"
      ]
    },
    {
      "cell_type": "code",
      "execution_count": null,
      "metadata": {
        "id": "i5uF4_LvwOit"
      },
      "outputs": [],
      "source": [
        "print(b)"
      ]
    },
    {
      "cell_type": "markdown",
      "metadata": {
        "id": "RwYZiyRVwOit"
      },
      "source": [
        "***\n",
        "### Lists and more"
      ]
    },
    {
      "cell_type": "markdown",
      "metadata": {
        "id": "Rji8Qu16wOit"
      },
      "source": [
        "#### Lists"
      ]
    },
    {
      "cell_type": "code",
      "execution_count": null,
      "metadata": {
        "id": "2K8atv2LwOit"
      },
      "outputs": [],
      "source": [
        "my_list = [1, 2, ['three', 4], 5.5]\n",
        "print(my_list)"
      ]
    },
    {
      "cell_type": "markdown",
      "metadata": {
        "id": "I7lmVj3vwOit"
      },
      "source": [
        "As with the strings, we can access the elemnts of the list from left and right side."
      ]
    },
    {
      "cell_type": "code",
      "execution_count": null,
      "metadata": {
        "id": "7RCyztF7wOit"
      },
      "outputs": [],
      "source": [
        "print(my_list[1:])"
      ]
    },
    {
      "cell_type": "code",
      "execution_count": null,
      "metadata": {
        "id": "OyaVDhCRwOit"
      },
      "outputs": [],
      "source": [
        "print(my_list[1:3])"
      ]
    },
    {
      "cell_type": "code",
      "execution_count": null,
      "metadata": {
        "id": "YWEJZG2lwOit"
      },
      "outputs": [],
      "source": [
        "print(my_list[0])"
      ]
    },
    {
      "cell_type": "code",
      "execution_count": null,
      "metadata": {
        "id": "iVjZQOK0wOit"
      },
      "outputs": [],
      "source": [
        "# Note, this will get us elemnts at position 3 and 4\n",
        "print(my_list[-2:])"
      ]
    },
    {
      "cell_type": "code",
      "execution_count": null,
      "metadata": {
        "id": "rpcH-HRnwOit"
      },
      "outputs": [],
      "source": [
        "print(my_list * 2)"
      ]
    },
    {
      "cell_type": "markdown",
      "metadata": {
        "id": "YV4nikWWwOit"
      },
      "source": [
        "We can modify elements of the list:"
      ]
    },
    {
      "cell_type": "code",
      "execution_count": null,
      "metadata": {
        "id": "f6ASetYawOit"
      },
      "outputs": [],
      "source": [
        "print(my_list)"
      ]
    },
    {
      "cell_type": "code",
      "execution_count": null,
      "metadata": {
        "id": "us-pcOFfwOit"
      },
      "outputs": [],
      "source": [
        "my_list[1] = 'seven'\n",
        "print(my_list)"
      ]
    },
    {
      "cell_type": "code",
      "execution_count": null,
      "metadata": {
        "id": "Fyg_eS08wOit"
      },
      "outputs": [],
      "source": [
        "my_list2 = my_list\n",
        "my_list2[0] = '1'\n",
        "my_list2[1] = \"second_element\""
      ]
    },
    {
      "cell_type": "code",
      "execution_count": null,
      "metadata": {
        "id": "CU1vXr2VwOit"
      },
      "outputs": [],
      "source": [
        "print(my_list)"
      ]
    },
    {
      "cell_type": "code",
      "execution_count": null,
      "metadata": {
        "id": "O4mduitfwOiu"
      },
      "outputs": [],
      "source": [
        "my_list3 = my_list.copy()\n",
        "my_list3[0] = \"seventy_seven\""
      ]
    },
    {
      "cell_type": "code",
      "execution_count": null,
      "metadata": {
        "id": "J9h_LgPzwOiu"
      },
      "outputs": [],
      "source": [
        "print(my_list3)"
      ]
    },
    {
      "cell_type": "code",
      "execution_count": null,
      "metadata": {
        "id": "6GRgQhv1wOiu"
      },
      "outputs": [],
      "source": [
        "print(my_list)"
      ]
    },
    {
      "cell_type": "markdown",
      "metadata": {
        "id": "dukvSrtvwOiu"
      },
      "source": [
        "and add elements to the list by creating a new one."
      ]
    },
    {
      "cell_type": "code",
      "execution_count": null,
      "metadata": {
        "scrolled": true,
        "id": "lD6ZzBYnwOiu"
      },
      "outputs": [],
      "source": [
        "my_new_list = my_list + ['new element']\n",
        "print(my_new_list) # the new list has the new element\n",
        "print(my_list) # however the original list was left unchanges"
      ]
    },
    {
      "cell_type": "markdown",
      "metadata": {
        "id": "61GhfzqqwOiu"
      },
      "source": [
        "If we want to modify the list on the fly, we can add new element with the `append()` method."
      ]
    },
    {
      "cell_type": "code",
      "execution_count": null,
      "metadata": {
        "id": "6jnoaKTHwOiu"
      },
      "outputs": [],
      "source": [
        "my_list.append('new element')\n",
        "print(my_list)"
      ]
    },
    {
      "cell_type": "markdown",
      "metadata": {
        "id": "VqR4IQ_4wOiu"
      },
      "source": [
        "Note that `append()` always add its argument as a new element. Therefore, if we want a list as an element of our list we can do that with append. On the other hand, if we want to add multiple elements to a list - we should rather use `extend()`."
      ]
    },
    {
      "cell_type": "code",
      "execution_count": null,
      "metadata": {
        "id": "U3LQlNHzwOiu"
      },
      "outputs": [],
      "source": [
        "my_list.append([1,2,3,4])\n",
        "print(my_list)"
      ]
    },
    {
      "cell_type": "code",
      "execution_count": null,
      "metadata": {
        "id": "UUIePWGhwOiu"
      },
      "outputs": [],
      "source": [
        "my_list.extend([1,2,3,4])\n",
        "print(my_list)"
      ]
    },
    {
      "cell_type": "markdown",
      "metadata": {
        "id": "X8bRTo31wOiu"
      },
      "source": [
        "***"
      ]
    },
    {
      "cell_type": "markdown",
      "metadata": {
        "id": "VhUd0RkXwOiu"
      },
      "source": [
        "**Excercise:** Given a list `names = ['Kasia', 'Jasio', 'Zuzia', 'Amelka']` answer the following questions:\n",
        "\n",
        "* What will `names[-2]` output?\n",
        "* What will `sorted(names)[1]` ourput?\n",
        "* What will the following command  - `len(names[1:3])` equeal to?"
      ]
    },
    {
      "cell_type": "markdown",
      "metadata": {
        "id": "lkNji6aXwOiu"
      },
      "source": [
        "**Don't run the code below until you try answering the questions!**"
      ]
    },
    {
      "cell_type": "code",
      "execution_count": null,
      "metadata": {
        "id": "WAeeS1AQwOiu"
      },
      "outputs": [],
      "source": [
        "names = ['Kasia', 'Jasio', 'Zuzia', 'Amelka']"
      ]
    },
    {
      "cell_type": "code",
      "execution_count": null,
      "metadata": {
        "id": "LT53KsBnwOiu"
      },
      "outputs": [],
      "source": [
        "names[-2]"
      ]
    },
    {
      "cell_type": "code",
      "execution_count": null,
      "metadata": {
        "id": "BeFBGbM3wOiu"
      },
      "outputs": [],
      "source": [
        "sorted(names)[1]"
      ]
    },
    {
      "cell_type": "code",
      "execution_count": null,
      "metadata": {
        "id": "wFe35usKwOiu"
      },
      "outputs": [],
      "source": [
        "len(names[1:3])"
      ]
    },
    {
      "cell_type": "markdown",
      "metadata": {
        "id": "lmg8LVtewOiu"
      },
      "source": [
        "#### Tuples"
      ]
    },
    {
      "cell_type": "markdown",
      "metadata": {
        "id": "7VYuHv88wOiu"
      },
      "source": [
        "Tuples are similiar to lists - they are a collection of items separated by commas and enclosed in parenthesis - (). Their elements can be accessed by their position, however, unlike lists their shape is constant. They cannot be updated."
      ]
    },
    {
      "cell_type": "code",
      "execution_count": null,
      "metadata": {
        "id": "VPF8wNnlwOiu"
      },
      "outputs": [],
      "source": [
        "my_tuple = (1, 2, 3, 4)\n",
        "print(my_tuple)"
      ]
    },
    {
      "cell_type": "code",
      "execution_count": null,
      "metadata": {
        "id": "WEK86R42wOiu"
      },
      "outputs": [],
      "source": [
        "print(my_tuple[2])"
      ]
    },
    {
      "cell_type": "code",
      "execution_count": null,
      "metadata": {
        "id": "9WS1AIkIwOiu"
      },
      "outputs": [],
      "source": [
        "print(my_tuple[1:3])"
      ]
    },
    {
      "cell_type": "code",
      "execution_count": null,
      "metadata": {
        "id": "bX2tz6VywOiv"
      },
      "outputs": [],
      "source": [
        "print(my_tuple * 2)"
      ]
    },
    {
      "cell_type": "code",
      "execution_count": null,
      "metadata": {
        "id": "WGrEiRBgwOiv"
      },
      "outputs": [],
      "source": [
        "my_tuple.append(1)"
      ]
    },
    {
      "cell_type": "markdown",
      "metadata": {
        "id": "sm2PlSRZwOiv"
      },
      "source": [
        "#### Sets"
      ]
    },
    {
      "cell_type": "markdown",
      "metadata": {
        "id": "eiv6aJvgwOiw"
      },
      "source": [
        "Sets are special collection in Python - they are unordered, unindexed and all their entires are unique. We create sets by using curly brackets {} or by using the `set()` function."
      ]
    },
    {
      "cell_type": "code",
      "execution_count": null,
      "metadata": {
        "id": "GiiFXyzRwOiw"
      },
      "outputs": [],
      "source": [
        "my_set = {'a', 'b', 3, 'b'}\n",
        "my_set2  = set(['a', 'b', 3, 'b'])\n",
        "print(my_set)"
      ]
    },
    {
      "cell_type": "code",
      "execution_count": null,
      "metadata": {
        "id": "kfzfVYDzwOiw"
      },
      "outputs": [],
      "source": [
        "print(my_set2)"
      ]
    },
    {
      "cell_type": "markdown",
      "metadata": {
        "id": "0Vo2bnZPwOiw"
      },
      "source": [
        "The sets cannot be accessed as list - they are unordered and unindexed. Uncomment the following two lines and see what happens."
      ]
    },
    {
      "cell_type": "code",
      "execution_count": null,
      "metadata": {
        "id": "Jd3gAoGXwOiw"
      },
      "outputs": [],
      "source": [
        "my_set[2]"
      ]
    },
    {
      "cell_type": "code",
      "execution_count": null,
      "metadata": {
        "id": "4u7hFAdewOiw"
      },
      "outputs": [],
      "source": [
        "print(my_set * 2)"
      ]
    },
    {
      "cell_type": "markdown",
      "metadata": {
        "id": "DZ-2SxDVwOiw"
      },
      "source": [
        "However, similiarly to lists, we can add items to the set."
      ]
    },
    {
      "cell_type": "code",
      "execution_count": null,
      "metadata": {
        "id": "Yq8N-IjewOiw"
      },
      "outputs": [],
      "source": [
        "my_set.add(7) # one element at the time\n",
        "print(my_set)"
      ]
    },
    {
      "cell_type": "code",
      "execution_count": null,
      "metadata": {
        "id": "wpnn6iepwOiw"
      },
      "outputs": [],
      "source": [
        "my_set.update([1, 2, 'f', 'g']) # multiple items at once\n",
        "print(my_set)"
      ]
    },
    {
      "cell_type": "markdown",
      "metadata": {
        "id": "L3i6g8ZawOiw"
      },
      "source": [
        "#### Dictionaries\n",
        "For people that have some experience with programming one might say that Python's dictionaries are kind of hash-table type. They work like associative arrays or hashes found in Perl. For others, with no background I like to say that the name - dictionary describes this type quite well. Dictionaries work in a way a real-life dictionary works - you can look up a value by it's key. You can look up a value (for example the translation od a word) by it key - this word in the language you know.\n",
        "\n",
        "We create dictionares with curly brackets {}, however, unlike with sets - we provide key and a value for each item:"
      ]
    },
    {
      "cell_type": "code",
      "execution_count": null,
      "metadata": {
        "id": "ETL0acvnwOiw"
      },
      "outputs": [],
      "source": [
        "my_dictionary = {\n",
        "    'me': 'ja',\n",
        "    'you': 'ty',\n",
        "    'he': 'on',\n",
        "    'she': 'ona',\n",
        "    'hi': 'czesc'\n",
        "}\n",
        "print(my_dictionary)"
      ]
    },
    {
      "cell_type": "markdown",
      "metadata": {
        "id": "Dclg8vdywOiw"
      },
      "source": [
        "We can also create a dictionary using a `dict()` function, the argument of the function has to be a sequence of (key, value) tuples."
      ]
    },
    {
      "cell_type": "code",
      "execution_count": null,
      "metadata": {
        "id": "VQsdJ3jrwOiw"
      },
      "outputs": [],
      "source": [
        "d = [('one', 1), ('two', 2), ('three', 3)]\n",
        "d_dict = dict(d)\n",
        "print(d_dict)"
      ]
    },
    {
      "cell_type": "markdown",
      "metadata": {
        "id": "ZLFfecxiwOiw"
      },
      "source": [
        "Let's check how to say you in Polish."
      ]
    },
    {
      "cell_type": "code",
      "execution_count": null,
      "metadata": {
        "id": "EvgAnfGdwOiw"
      },
      "outputs": [],
      "source": [
        "my_dictionary['you']"
      ]
    },
    {
      "cell_type": "markdown",
      "metadata": {
        "id": "5KPCukBhwOiw"
      },
      "source": [
        "We can add new entries to the dictionary."
      ]
    },
    {
      "cell_type": "code",
      "execution_count": null,
      "metadata": {
        "id": "5oqko39swOiw"
      },
      "outputs": [],
      "source": [
        "my_dictionary['ice cream'] = 'lody'\n",
        "my_dictionary['pizza'] = 'pizza'\n",
        "print(my_dictionary)"
      ]
    },
    {
      "cell_type": "markdown",
      "metadata": {
        "id": "5Kn38nxGwOiw"
      },
      "source": [
        "In the same way we can modify entries in the dictionary."
      ]
    },
    {
      "cell_type": "code",
      "execution_count": null,
      "metadata": {
        "id": "xLpNf8CkwOix"
      },
      "outputs": [],
      "source": [
        "my_dictionary['pizza'] = 'wloski placek' # roughly translates to italian pie\n",
        "print(my_dictionary)"
      ]
    },
    {
      "cell_type": "markdown",
      "metadata": {
        "id": "Ohj_U13SwOix"
      },
      "source": [
        "We can access all the keys by calling `keys()` function on our dictionary."
      ]
    },
    {
      "cell_type": "code",
      "execution_count": null,
      "metadata": {
        "id": "m-ObmeDnwOix"
      },
      "outputs": [],
      "source": [
        "print(my_dictionary.keys())"
      ]
    },
    {
      "cell_type": "markdown",
      "metadata": {
        "id": "CW1NzNuzwOix"
      },
      "source": [
        "We can also access all the values by calling `values()` function on our dictionary."
      ]
    },
    {
      "cell_type": "code",
      "execution_count": null,
      "metadata": {
        "scrolled": true,
        "id": "3gpGbX5MwOix"
      },
      "outputs": [],
      "source": [
        "print(my_dictionary.values())"
      ]
    },
    {
      "cell_type": "markdown",
      "metadata": {
        "id": "Vt1uDAbewOix"
      },
      "source": [
        "***"
      ]
    },
    {
      "cell_type": "markdown",
      "metadata": {
        "id": "ja3i-NT4wOix"
      },
      "source": [
        "**Excercise**: You need to save few phone numbers of your friends (Kasia +48300200100, Maja +48564763562, Jacek +48600500400). Which of the above will you use to quickly access those numbers?"
      ]
    },
    {
      "cell_type": "code",
      "execution_count": null,
      "metadata": {
        "id": "AMKZL4blwOix"
      },
      "outputs": [],
      "source": [
        "# Create your phonebook here\n",
        "phone_book ="
      ]
    },
    {
      "cell_type": "markdown",
      "metadata": {
        "id": "WaCOb4D5wOix"
      },
      "source": [
        "**Excercise:** You have a long list of duplicate entries. How will you remove duplciates and create a new list with only unique values?"
      ]
    },
    {
      "cell_type": "code",
      "execution_count": null,
      "metadata": {
        "id": "jmJ22BD1wOix"
      },
      "outputs": [],
      "source": [
        "long_list_of_duplicates = [1, 7, 1, 2, 3, 5, 16, 7, 8, 17, 13, 23, 21, 34, 55, 23, 89, 1, 2, 3, 34, 4, 5, 6, 34, 7, 8, 4, 9, 10, 21, 11, 12, 13]\n",
        "print(len(long_list_of_duplicates)) # 34"
      ]
    },
    {
      "cell_type": "code",
      "execution_count": null,
      "metadata": {
        "id": "e8gNzO4SwOix"
      },
      "outputs": [],
      "source": [
        "# Create your new list\n",
        "new_list =\n",
        "\n",
        "# test\n",
        "len(new_list) == 20"
      ]
    },
    {
      "cell_type": "markdown",
      "metadata": {
        "id": "fjP7kj65wOix"
      },
      "source": [
        "***\n",
        "### Controlling the flow"
      ]
    },
    {
      "cell_type": "markdown",
      "metadata": {
        "id": "ge4IWyAhwOix"
      },
      "source": [
        "#### Logic in Python"
      ]
    },
    {
      "cell_type": "markdown",
      "metadata": {
        "id": "q-kYkIhywOix"
      },
      "source": [
        "Logical operators in Python:\n",
        "* `True`, `False` are respectively equal to `1` and `0`;\n",
        "* all objects have boolean value, and exept for `False`, `0`, `None` or empty collections (`\"\"`, `[]`, `{}` and `()`) every other objects are `True`;\n",
        "* `and` - both values have to be true for it to be true;\n",
        "* `or` - at least one turth makes the statement true;\n",
        "* `not` - negation of the value;\n",
        "* `is` - checks if are the same object;\n",
        "* comparisons:   \n",
        "\n",
        "| symbol | meaning |  \n",
        "| --- | --- |  \n",
        "| == | is equal|  \n",
        "| != | is not equal|  \n",
        "| > | greater than|  \n",
        "| >= | greater or equal to|  \n",
        "| < | less than|  \n",
        "| <= | less or euqal to|  \n"
      ]
    },
    {
      "cell_type": "code",
      "execution_count": null,
      "metadata": {
        "id": "3Ijj-ZR4wOix"
      },
      "outputs": [],
      "source": [
        "# Definitions\n",
        "a = True\n",
        "b = False\n",
        "c = d = 1\n",
        "true_statement = d > 0"
      ]
    },
    {
      "cell_type": "markdown",
      "metadata": {
        "id": "Oze4fpPwwOix"
      },
      "source": [
        "`1` is equal to `True` but those are two different objects."
      ]
    },
    {
      "cell_type": "code",
      "execution_count": null,
      "metadata": {
        "id": "QdE3fgriwOix"
      },
      "outputs": [],
      "source": [
        "print(a == c)"
      ]
    },
    {
      "cell_type": "code",
      "execution_count": null,
      "metadata": {
        "id": "G6g44tgcwOix"
      },
      "outputs": [],
      "source": [
        "print(a is c)"
      ]
    },
    {
      "cell_type": "code",
      "execution_count": null,
      "metadata": {
        "id": "z_V_n6OmwOix"
      },
      "outputs": [],
      "source": [
        "print(c is d)"
      ]
    },
    {
      "cell_type": "code",
      "execution_count": null,
      "metadata": {
        "id": "xD2KL4sAwOix"
      },
      "outputs": [],
      "source": [
        "print(a != b)"
      ]
    },
    {
      "cell_type": "code",
      "execution_count": null,
      "metadata": {
        "id": "yz08x-4TwOix"
      },
      "outputs": [],
      "source": [
        "print((a or b) and (a and not b))"
      ]
    },
    {
      "cell_type": "markdown",
      "metadata": {
        "id": "PtrYIqp7wOix"
      },
      "source": [
        "Objects do evaluate as either `True` or `False`:"
      ]
    },
    {
      "cell_type": "code",
      "execution_count": null,
      "metadata": {
        "id": "W5LyCBZlwOix"
      },
      "outputs": [],
      "source": [
        "not_empty_list = [1, 2, 3]\n",
        "if len(not_empty_list) > 0:\n",
        "    print(\"{} is true.\".format(not_empty_list))"
      ]
    },
    {
      "cell_type": "code",
      "execution_count": null,
      "metadata": {
        "id": "Nsv7Z8vTwOix"
      },
      "outputs": [],
      "source": [
        "empty_list = []\n",
        "if not empty_list:\n",
        "    print(\"{} isn't.\".format(empty_list))"
      ]
    },
    {
      "cell_type": "markdown",
      "metadata": {
        "id": "KvsOd140wOiy"
      },
      "source": [
        "however they act a bit differently when used within logical opperations."
      ]
    },
    {
      "cell_type": "code",
      "execution_count": null,
      "metadata": {
        "id": "q2TkGpi1wOiy"
      },
      "outputs": [],
      "source": [
        "print(not(False or False) or 1)"
      ]
    },
    {
      "cell_type": "code",
      "execution_count": null,
      "metadata": {
        "id": "MZ9Hdj70wOiy"
      },
      "outputs": [],
      "source": [
        "print(not(247 % 5 or 234 % 2) or 1 == 9)"
      ]
    },
    {
      "cell_type": "code",
      "execution_count": null,
      "metadata": {
        "id": "sgKqnIEEwOiy"
      },
      "outputs": [],
      "source": [
        "print(not(247 % 5 or 234 % 2) or [1, 2, 3])"
      ]
    },
    {
      "cell_type": "markdown",
      "metadata": {
        "id": "w0We_HW6wOiy"
      },
      "source": [
        "***"
      ]
    },
    {
      "cell_type": "markdown",
      "metadata": {
        "id": "HqqzHM5wwOiy"
      },
      "source": [
        "**Excercise:** Answer the following questions:\n",
        "\n",
        "* What is the result of 10 == “10”\n",
        "* What is the result of not(True or False)?\n",
        "* What is the result of not 'bag'?\n",
        "* Tricky question: What is the result of “bag” > “apple”?  Why?"
      ]
    },
    {
      "cell_type": "markdown",
      "metadata": {
        "id": "mPauSRlqwOiy"
      },
      "source": [
        "**Don't run the following before you try answering the questions!**"
      ]
    },
    {
      "cell_type": "code",
      "execution_count": null,
      "metadata": {
        "id": "Jj5d4dp7wOiy"
      },
      "outputs": [],
      "source": [
        "print(10 == \"10\")"
      ]
    },
    {
      "cell_type": "code",
      "execution_count": null,
      "metadata": {
        "id": "QblTJc9bwOiy"
      },
      "outputs": [],
      "source": [
        "print(not(True or False))"
      ]
    },
    {
      "cell_type": "code",
      "execution_count": null,
      "metadata": {
        "id": "tcRwEe3XwOiy"
      },
      "outputs": [],
      "source": [
        "print(not 'bag')"
      ]
    },
    {
      "cell_type": "code",
      "execution_count": null,
      "metadata": {
        "id": "nBX24Do_wOiy"
      },
      "outputs": [],
      "source": [
        "print(\"bag\" > \"apple\")"
      ]
    },
    {
      "cell_type": "markdown",
      "metadata": {
        "id": "P3eqAgF2wOiy"
      },
      "source": [
        "#### Conditions: `if`, `else` and `elif`"
      ]
    },
    {
      "cell_type": "markdown",
      "metadata": {
        "id": "R8yvtnitwOiy"
      },
      "source": [
        "The basic statement controlling flow is the statement if - If certain condition is met do sth. For example, if you input"
      ]
    },
    {
      "cell_type": "code",
      "execution_count": null,
      "metadata": {
        "id": "fJ7KVG-TwOiy"
      },
      "outputs": [],
      "source": [
        "x = int(input('Please, provide a number greater than 0: '))\n",
        "if x > 0:\n",
        "    print('Thanks!')\n",
        "else:\n",
        "    print('Hmm, {} is not greater than 0!'.format(x))"
      ]
    },
    {
      "cell_type": "code",
      "execution_count": null,
      "metadata": {
        "scrolled": true,
        "id": "m44bWcG5wOiy"
      },
      "outputs": [],
      "source": [
        "x = int(input('Please, provide a number greater than 0: '))\n",
        "if x > 0:\n",
        "    print('Thanks!')\n",
        "elif x == 0:\n",
        "    print('Hmm, {} is 0, therefore not greater than 0!'.format(x))\n",
        "else:\n",
        "    print('Hmm, {} is not greater than 0!'.format(x))"
      ]
    },
    {
      "cell_type": "markdown",
      "metadata": {
        "id": "6tEQhBkewOiy"
      },
      "source": [
        "#### Loops: `for` and `while`"
      ]
    },
    {
      "cell_type": "markdown",
      "metadata": {
        "id": "Ybb_4sPOwOiy"
      },
      "source": [
        "Those statements allow us to repeat a certain procedure over an iteration of sorts. For example, let's say that for every odd number lower than 10 we would want to learn the value of this number taken to the power of 3. We can do it like this:"
      ]
    },
    {
      "cell_type": "code",
      "execution_count": null,
      "metadata": {
        "id": "tAeOZjhhwOiy"
      },
      "outputs": [],
      "source": [
        "print(1**3)\n",
        "print(3**3)\n",
        "print(5**3)"
      ]
    },
    {
      "cell_type": "markdown",
      "metadata": {
        "id": "hfg4a9VkwOiy"
      },
      "source": [
        "and so on. Or, we can write it like this:"
      ]
    },
    {
      "cell_type": "code",
      "execution_count": null,
      "metadata": {
        "id": "dAlauHMAwOiy"
      },
      "outputs": [],
      "source": [
        "# range(1, 10, 2) takes a range from 1 to 10 and takes every other number\n",
        "for i in range(1, 10, 2):\n",
        "    print(i**3)"
      ]
    },
    {
      "cell_type": "markdown",
      "metadata": {
        "id": "GRciDE2awOiy"
      },
      "source": [
        "By modifying the above example we can get the sum of all odd numbers bigger than 0 and smaller than 100."
      ]
    },
    {
      "cell_type": "code",
      "execution_count": null,
      "metadata": {
        "id": "-dKiocU2wOiy"
      },
      "outputs": [],
      "source": [
        "odd_sum = 0\n",
        "for i in range(1, 100, 2):\n",
        "    odd_sum += i**3 # += is an abbreviation for odd_sum = odd_sum + i**3\n",
        "\n",
        "print(odd_sum)"
      ]
    },
    {
      "cell_type": "markdown",
      "metadata": {
        "id": "Flx7TDP-wOiy"
      },
      "source": [
        "Other statement that allows us to execute the same command multiple times is the statement `while`. You can think of this as - while something is true, do this. Coming back to our example from earlier:"
      ]
    },
    {
      "cell_type": "code",
      "execution_count": null,
      "metadata": {
        "id": "pWqSmvpPwOiy"
      },
      "outputs": [],
      "source": [
        "is_greater = False\n",
        "while not is_greater:\n",
        "    x = int(input('Please, provide a number greater than 0: '))\n",
        "    if x > 0:\n",
        "        is_greater = True\n",
        "    else:\n",
        "        print('We are still looking for a number greater than zero ;)')\n",
        "print('Thanks!')"
      ]
    },
    {
      "cell_type": "markdown",
      "metadata": {
        "id": "WSv8q90uwOiz"
      },
      "source": [
        "#### More control flow tools: `continue` and `break`"
      ]
    },
    {
      "cell_type": "markdown",
      "metadata": {
        "id": "z_o_7JqywOiz"
      },
      "source": [
        "The `break` statement breaks out of the looop, i.e. stop any following iterations of the loop."
      ]
    },
    {
      "cell_type": "code",
      "execution_count": null,
      "metadata": {
        "id": "JK0bq7LEwOiz"
      },
      "outputs": [],
      "source": [
        "while True:\n",
        "    x = int(input('Please, provide a number greater than 0: '))\n",
        "    if x > 0:\n",
        "        break\n",
        "    else:\n",
        "        print('We are still looking for a number greater than zero ;)')\n",
        "print('Thanks!')"
      ]
    },
    {
      "cell_type": "markdown",
      "metadata": {
        "id": "n5Dk2USUwOiz"
      },
      "source": [
        "Another example of a `break` statement. Note, `break` only influences the loop it was put into."
      ]
    },
    {
      "cell_type": "code",
      "execution_count": null,
      "metadata": {
        "id": "XDvH0o1iwOiz"
      },
      "outputs": [],
      "source": [
        "for n in range(2, 10):\n",
        "    for x in range(2, n):\n",
        "        if n % x == 0:\n",
        "            print(n, 'equals', x, '*', n // x)\n",
        "            break # breaks out of the second for loop\n",
        "    else:\n",
        "        # loop fell through without finding a factor\n",
        "        print(n, 'is a prime number')"
      ]
    },
    {
      "cell_type": "markdown",
      "metadata": {
        "id": "sS0eXzyBwOiz"
      },
      "source": [
        "`continue` goes to another iteration skipping the remainder of the loop."
      ]
    },
    {
      "cell_type": "code",
      "execution_count": null,
      "metadata": {
        "id": "Uz7dCeHQwOiz"
      },
      "outputs": [],
      "source": [
        "for num in range(2, 10):\n",
        "    if num % 2 == 0:\n",
        "        print(\"Found an even number\", num)\n",
        "        continue # next line will not get executed if this is reached\n",
        "    print(\"Found an odd number\", num)"
      ]
    },
    {
      "cell_type": "code",
      "execution_count": null,
      "metadata": {
        "id": "ojAapqs3wOiz"
      },
      "outputs": [],
      "source": [
        "for num in range(2, 10):\n",
        "    if num % 2 == 0:\n",
        "        print(\"Found an even number\", num)\n",
        "    else:\n",
        "        print(\"Found an odd number\", num)"
      ]
    },
    {
      "cell_type": "markdown",
      "metadata": {
        "id": "NNihLSPYwOiz"
      },
      "source": [
        "***"
      ]
    },
    {
      "cell_type": "markdown",
      "metadata": {
        "id": "yVNqm0PXwOiz"
      },
      "source": [
        "**Excercise:** Write a loop that will print the following pattern:  \n",
        " 1    \n",
        "22  \n",
        "333  \n",
        "4444  \n",
        "55555  \n",
        "666666  \n",
        "7777777  \n",
        "88888888  \n",
        "999999999  "
      ]
    },
    {
      "cell_type": "code",
      "execution_count": null,
      "metadata": {
        "id": "MBa-pb1xwOiz"
      },
      "outputs": [],
      "source": [
        "# write your code here\n"
      ]
    },
    {
      "cell_type": "markdown",
      "metadata": {
        "id": "aWy5PW2uwOiz"
      },
      "source": [
        "***\n",
        "### Functions"
      ]
    },
    {
      "cell_type": "markdown",
      "metadata": {
        "id": "3p9nYc3HwOiz"
      },
      "source": [
        "There are many [built-in functions in Python](https://docs.python.org/3/library/functions.html), there is a universe of those available in various packages. That said, sometimes we need to do an operation that is really specific, or simply not worth loading a whole package. Any operation that can be put into function, most likely should be put into a function. Functions in Python are defined with `def` statement as follows:"
      ]
    },
    {
      "cell_type": "code",
      "execution_count": null,
      "metadata": {
        "id": "jJo0j2hwwOiz"
      },
      "outputs": [],
      "source": [
        "def function_name(function_arguments):\n",
        "    # the body of the function. i.e. what it should do with the arguments\n",
        "    print()"
      ]
    },
    {
      "cell_type": "markdown",
      "metadata": {
        "id": "3BO-tLHxwOiz"
      },
      "source": [
        "For example, a simple function performing addition."
      ]
    },
    {
      "cell_type": "code",
      "execution_count": null,
      "metadata": {
        "id": "J7q9yhDKwOiz"
      },
      "outputs": [],
      "source": [
        "def add(a, b):\n",
        "    # adds two numbers\n",
        "    print(\"The sum of a = {} and b = {} is equal to {}\".format(a, b, a + b))"
      ]
    },
    {
      "cell_type": "markdown",
      "metadata": {
        "id": "gukZ1zQYwOiz"
      },
      "source": [
        "Notice, that we can provide arguments by possition, or by name."
      ]
    },
    {
      "cell_type": "code",
      "execution_count": null,
      "metadata": {
        "id": "9eGDkSh5wOiz"
      },
      "outputs": [],
      "source": [
        "add(1, 4)"
      ]
    },
    {
      "cell_type": "code",
      "execution_count": null,
      "metadata": {
        "id": "32C8InKnwOiz"
      },
      "outputs": [],
      "source": [
        "add(b = 4, a = 1)"
      ]
    },
    {
      "cell_type": "markdown",
      "metadata": {
        "id": "8_no0RKdwOiz"
      },
      "source": [
        "Notice that a and b inside the function are local and inside the function, they overwride whatever other variables you can have defined globally. However, the excecution of the function will not change those variables in your global eniroment. That said, it's better to call variables with a bit more inforative names than a and b, and to also avoid using the same name for different things."
      ]
    },
    {
      "cell_type": "code",
      "execution_count": null,
      "metadata": {
        "id": "EVxu1ALfwOiz"
      },
      "outputs": [],
      "source": [
        "x = 5\n",
        "b = 7\n",
        "add(b, x)"
      ]
    },
    {
      "cell_type": "code",
      "execution_count": null,
      "metadata": {
        "id": "l3h0KJj7wOiz"
      },
      "outputs": [],
      "source": [
        "print(x)"
      ]
    },
    {
      "cell_type": "code",
      "execution_count": null,
      "metadata": {
        "id": "fj-rMgvZwOiz"
      },
      "outputs": [],
      "source": [
        "print(b)"
      ]
    },
    {
      "cell_type": "markdown",
      "metadata": {
        "id": "rU1Z0g0owOiz"
      },
      "source": [
        "Now, a let's look at another example."
      ]
    },
    {
      "cell_type": "code",
      "execution_count": null,
      "metadata": {
        "id": "leFHYvfMwOi0"
      },
      "outputs": [],
      "source": [
        "# Let's write a function that calculates an arithmetic mean\n",
        "def arithmetic_mean(input_numbers):\n",
        "    # input_numbers is a list\n",
        "    return sum(input_numbers) / len(input_numbers)"
      ]
    },
    {
      "cell_type": "markdown",
      "metadata": {
        "id": "jAygrgzFwOi0"
      },
      "source": [
        "Now, we can use our function in a loop."
      ]
    },
    {
      "cell_type": "code",
      "execution_count": null,
      "metadata": {
        "id": "25qoV2HYwOi0"
      },
      "outputs": [],
      "source": [
        "even_numbers = range(2, 100, 2)\n",
        "s = 0\n",
        "for number in even_numbers:\n",
        "    s += arithmetic_mean([number, s])\n",
        "print(s)"
      ]
    },
    {
      "cell_type": "markdown",
      "metadata": {
        "id": "iBb7up7twOi0"
      },
      "source": [
        "Obviosly, this will still work if you wouldn't create a function. However, the function adds to readebilty of the code as well, as to its potential for development."
      ]
    },
    {
      "cell_type": "code",
      "execution_count": null,
      "metadata": {
        "id": "duQRSWmHwOi0"
      },
      "outputs": [],
      "source": [
        "even_numbers = range(2, 100, 2)\n",
        "s = 0\n",
        "for number in even_numbers:\n",
        "    s += sum([number, s]) / len([number, s])\n",
        "print(s)"
      ]
    },
    {
      "cell_type": "markdown",
      "metadata": {
        "id": "rQgO1L38wOi0"
      },
      "source": [
        "#### Side note: testing"
      ]
    },
    {
      "cell_type": "markdown",
      "metadata": {
        "id": "NPEwWX1EwOi0"
      },
      "source": [
        "When writing a function - it's always good to think of what you expect and what potential errors can arrisen while executing the code. This helps prevent your code from crushing. It also allows you to print more human readable error messages."
      ]
    },
    {
      "cell_type": "code",
      "execution_count": null,
      "metadata": {
        "id": "-5s_QaD2wOi0"
      },
      "outputs": [],
      "source": [
        "def arithmetic_mean_long(input_numbers):\n",
        "    \"\"\"Calculates arithmetic mean\n",
        "    Args:\n",
        "        List of numbers\n",
        "    Returns:\n",
        "        Arithmetic mean\n",
        "    \"\"\"\n",
        "    try:\n",
        "        result = sum(input_numbers) / len(input_numbers)\n",
        "    except TypeError:\n",
        "        not_numbers = [number for number in input_numbers if isinstance(number, (int, float)) == False]\n",
        "        print('ERROR: Input must contain only numbers! Those are not numbers: {}'.format(not_numbers))\n",
        "    except ZeroDivisionError:\n",
        "        print('ERROR: Input cannot be empty!')\n",
        "    else:\n",
        "        return result"
      ]
    },
    {
      "cell_type": "code",
      "execution_count": null,
      "metadata": {
        "id": "u4ENpEPCwOi0"
      },
      "outputs": [],
      "source": [
        "test1 = [1, 2, 3, 4, 5]\n",
        "arithmetic_mean(test1)"
      ]
    },
    {
      "cell_type": "code",
      "execution_count": null,
      "metadata": {
        "id": "5yLEFrwywOi0"
      },
      "outputs": [],
      "source": [
        "arithmetic_mean_long(test1)"
      ]
    },
    {
      "cell_type": "code",
      "execution_count": null,
      "metadata": {
        "scrolled": true,
        "id": "aIfa5JLUwOi0"
      },
      "outputs": [],
      "source": [
        "test2 = [1, 2, 3, '4', '5']\n",
        "arithmetic_mean(test2)"
      ]
    },
    {
      "cell_type": "code",
      "execution_count": null,
      "metadata": {
        "id": "VnUfyt2vwOi0"
      },
      "outputs": [],
      "source": [
        "arithmetic_mean_long(test2)"
      ]
    },
    {
      "cell_type": "code",
      "execution_count": null,
      "metadata": {
        "id": "FDdCd8ImwOi0"
      },
      "outputs": [],
      "source": [
        "test3 = []\n",
        "arithmetic_mean(test3)"
      ]
    },
    {
      "cell_type": "code",
      "execution_count": null,
      "metadata": {
        "id": "SREfrZrfwOi0"
      },
      "outputs": [],
      "source": [
        "arithmetic_mean_long(test3)"
      ]
    },
    {
      "cell_type": "markdown",
      "metadata": {
        "id": "arctlzoxwOi0"
      },
      "source": [
        "***"
      ]
    },
    {
      "cell_type": "markdown",
      "metadata": {
        "id": "RCrSoVTWwOi0"
      },
      "source": [
        "**Excercise:** Write a function called fizz_buzz that takes a number and:\n",
        "* If the number is divisible by 3, it should print “Fizz”.\n",
        "* If it is divisible by 5, it should print “Buzz”.\n",
        "* If it is divisible by both 3 and 5, it should print“FizzBuzz”.\n",
        "* Otherwise, it should print the same number."
      ]
    },
    {
      "cell_type": "code",
      "execution_count": null,
      "metadata": {
        "id": "qztoSL0pwOi0"
      },
      "outputs": [],
      "source": [
        "# write your function here\n",
        "def fizz_buzz():"
      ]
    },
    {
      "cell_type": "code",
      "execution_count": null,
      "metadata": {
        "id": "5U9Lwm-bwOi0"
      },
      "outputs": [],
      "source": [
        "# and test it\n",
        "fizz_buzz(9) # Fizz"
      ]
    },
    {
      "cell_type": "code",
      "execution_count": null,
      "metadata": {
        "id": "dxMlg60LwOi0"
      },
      "outputs": [],
      "source": [
        "fizz_buzz(25) # Buzz"
      ]
    },
    {
      "cell_type": "code",
      "execution_count": null,
      "metadata": {
        "id": "2CFwwtEnwOi0"
      },
      "outputs": [],
      "source": [
        "fizz_buzz(15) # FizzBuzz"
      ]
    },
    {
      "cell_type": "code",
      "execution_count": null,
      "metadata": {
        "id": "_kgYwOEkwOi1"
      },
      "outputs": [],
      "source": [
        "fizz_buzz(13) # 13"
      ]
    },
    {
      "cell_type": "markdown",
      "metadata": {
        "id": "cnzYFwRywOi1"
      },
      "source": [
        "**Excercise:** Write a function for checking the speed of drivers. This function should have one parameter: speed.\n",
        "* If speed is less than 70, it should print “Ok”.\n",
        "* Otherwise, for every 5km above the speed limit (70), it should give the driver one demerit point and print the total number of demerit points. For example, if the speed is 80, it should print: “Points: 2”.\n",
        "* If the driver gets more than 12 points, the function should print: “License suspended”"
      ]
    },
    {
      "cell_type": "code",
      "execution_count": null,
      "metadata": {
        "id": "DH8pc6FiwOi1"
      },
      "outputs": [],
      "source": [
        "# write your function here\n",
        "def check_the_speed():\n",
        ""
      ]
    },
    {
      "cell_type": "code",
      "execution_count": null,
      "metadata": {
        "id": "0yAC-LZ9wOi1"
      },
      "outputs": [],
      "source": [
        "# let's test it:\n",
        "check_the_speed(64) # Ok"
      ]
    },
    {
      "cell_type": "code",
      "execution_count": null,
      "metadata": {
        "id": "8m9NkmBMwOi1"
      },
      "outputs": [],
      "source": [
        "check_the_speed(71) # Points: 1"
      ]
    },
    {
      "cell_type": "code",
      "execution_count": null,
      "metadata": {
        "id": "6AmHSqgtwOi1"
      },
      "outputs": [],
      "source": [
        "check_the_speed(83) # Points: 3"
      ]
    },
    {
      "cell_type": "code",
      "execution_count": null,
      "metadata": {
        "id": "X0P68tvdwOi1"
      },
      "outputs": [],
      "source": [
        "check_the_speed(131) # Licence suspended"
      ]
    },
    {
      "cell_type": "markdown",
      "metadata": {
        "id": "S_sGwFqPwOi1"
      },
      "source": [
        "# Resources\n",
        "\n",
        "## Books\n",
        "* [Python for Data Analysis](https://www.oreilly.com/library/view/python-for-data/9781491957653/)\n",
        "* [Python in a Nutshell](http://shop.oreilly.com/product/0636920012610.do)\n",
        "* [Think Python: How to Think Like a Computer Scientist](http://greenteapress.com/thinkpython/html/index.html) - wole book available online\n",
        "* [A Byte of Python](https://python.swaroopch.com/) - whole book available online\n",
        "\n",
        "## Interactive courses\n",
        "* [Learn Python](https://www.learnpython.org/)\n",
        "* [A Python crash course](https://www.grahamwheeler.com/posts/python-crash-course.html) - This one is aimed at people already programming in Java\n",
        "* [Python for beginners](http://opentechschool.github.io/python-beginners/en/index.html)\n",
        "* [Tech Dev Guide by Google](https://techdevguide.withgoogle.com/) - Google resources for learning and advancing your programming skills\n",
        "* [Courses in Python on edX](https://www.edx.org/learn/python)\n",
        "* [Codeacademy - Python3](https://www.codecademy.com/learn/learn-python-3) - unfortunately behind a paywall\n",
        "* [10 Minutes to Pandas](https://pandas.pydata.org/pandas-docs/stable/getting_started/10min.html)\n",
        "* [Exploratory Data Anylyses with Pandas and Numpy](https://www.grahamwheeler.com/posts/exploratory-data-analysis-with-numpy-and-pandas.html)\n",
        "\n",
        "## Online IDEs\n",
        "* [Repl](https://repl.it/languages/python3)\n",
        "\n",
        "## Other\n",
        "* [List of resources on Hackr.io](https://hackr.io/tutorials/learn-python)\n",
        "* [Python excercises for beginners](https://programmingwithmosh.com/python/python-exercises-and-questions-for-beginners/)"
      ]
    }
  ],
  "metadata": {
    "kernelspec": {
      "display_name": "Python 3",
      "language": "python",
      "name": "python3"
    },
    "language_info": {
      "codemirror_mode": {
        "name": "ipython",
        "version": 3
      },
      "file_extension": ".py",
      "mimetype": "text/x-python",
      "name": "python",
      "nbconvert_exporter": "python",
      "pygments_lexer": "ipython3",
      "version": "3.8.3"
    },
    "colab": {
      "provenance": []
    }
  },
  "nbformat": 4,
  "nbformat_minor": 0
}